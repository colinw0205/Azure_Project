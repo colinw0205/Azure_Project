{
    "metadata": {
        "kernelspec": {
            "name": "SQL",
            "display_name": "SQL",
            "language": "sql"
        },
        "language_info": {
            "name": "sql",
            "version": ""
        }
    },
    "nbformat_minor": 2,
    "nbformat": 4,
    "cells": [
        {
            "cell_type": "markdown",
            "source": [
                "# **First, let's learn about our dataset, or the people who applied for credit cards...**"
            ],
            "metadata": {
                "language": "sql",
                "azdata_cell_guid": "5f7df91a-9716-475b-8905-0c3b79b10a93"
            },
            "attachments": {}
        },
        {
            "cell_type": "markdown",
            "source": [
                "# **Need to reduce the number of digits in total income so it appears better on visualizations. We do this in two steps:  \n",
                "Step 1:**"
            ],
            "metadata": {
                "language": "sql",
                "azdata_cell_guid": "a3e8fb7f-e1ce-4f88-ab99-be01db78b2fe"
            },
            "attachments": {}
        },
        {
            "cell_type": "code",
            "source": [
                "alter table dataset\r\n",
                "add IncomeReduced decimal(7,3);\r\n",
                ""
            ],
            "metadata": {
                "language": "sql",
                "azdata_cell_guid": "89b8b9bd-8a8f-4947-9c9f-be9ac7dbdf69"
            },
            "outputs": [
                {
                    "output_type": "display_data",
                    "data": {
                        "text/html": "Commands completed successfully."
                    },
                    "metadata": {}
                },
                {
                    "output_type": "display_data",
                    "data": {
                        "text/html": "Total execution time: 00:00:00.117"
                    },
                    "metadata": {}
                }
            ],
            "execution_count": 98
        },
        {
            "cell_type": "markdown",
            "source": [
                "# **Step 2:**"
            ],
            "metadata": {
                "language": "sql",
                "azdata_cell_guid": "8fd2d4fc-af69-4a80-94d5-5e4002ce9e6f"
            },
            "attachments": {}
        },
        {
            "cell_type": "code",
            "source": [
                "\r\n",
                "update dataset\r\n",
                "set IncomeReduced = Total_income / 1000; "
            ],
            "metadata": {
                "language": "sql",
                "azdata_cell_guid": "b471e921-f0d0-4ee1-9b94-23212efbaa87",
                "tags": []
            },
            "outputs": [
                {
                    "output_type": "display_data",
                    "data": {
                        "text/html": "(9709 rows affected)"
                    },
                    "metadata": {}
                },
                {
                    "output_type": "display_data",
                    "data": {
                        "text/html": "Total execution time: 00:00:00.039"
                    },
                    "metadata": {}
                }
            ],
            "execution_count": 115
        },
        {
            "cell_type": "markdown",
            "source": [
                "# _Now Total\\_income has been reduced by $1,000._\n",
                "\n",
                "# **Now we group applicants into income brackets of $20,000 and show what percentage from each group were approved for credit cards:**"
            ],
            "metadata": {
                "language": "sql",
                "azdata_cell_guid": "95f60342-d007-4644-a272-b9e706ec1ce8"
            },
            "attachments": {}
        },
        {
            "cell_type": "code",
            "source": [
                "-- Income bins ($20k) vs pct approved\r\n",
                "with newTable as \r\n",
                "(select \r\n",
                "    ID,\r\n",
                "    concat( \r\n",
                "        floor(IncomeReduced / 20) * 20, \r\n",
                "        '-', \r\n",
                "        floor(IncomeReduced / 20) * 20 + 10)\r\n",
                "        as Income_group, \r\n",
                "    cast([Target] as int) as outcome\r\n",
                "from dataset)\r\n",
                "\r\n",
                "select \r\n",
                "    Income_group,\r\n",
                "    100 *(sum(outcome)) / (count(ID)) as pct_Approved\r\n",
                "from newTable \r\n",
                "group by Income_group\r\n",
                "order by cast( SUBSTRING(Income_group, 1, CHARINDEX('-', Income_Group) - 1) as int);"
            ],
            "metadata": {
                "language": "sql",
                "azdata_cell_guid": "e8f1ff80-9994-4079-b1e4-5b5c8302dcd8"
            },
            "outputs": [
                {
                    "output_type": "display_data",
                    "data": {
                        "text/html": "(46 rows affected)"
                    },
                    "metadata": {}
                },
                {
                    "output_type": "display_data",
                    "data": {
                        "text/html": "Total execution time: 00:00:00.025"
                    },
                    "metadata": {}
                },
                {
                    "output_type": "execute_result",
                    "metadata": {
                        "azdata_chartOptions": {
                            "type": "bar",
                            "dataDirection": "vertical",
                            "columnsAsLabels": true,
                            "labelFirstColumn": false,
                            "legendPosition": "none",
                            "yAxisLabel": "% Approved",
                            "xAxisLabel": "Total Income ( X $1,000)"
                        }
                    },
                    "execution_count": 118,
                    "data": {
                        "application/vnd.dataresource+json": {
                            "schema": {
                                "fields": [
                                    {
                                        "name": "Income_group"
                                    },
                                    {
                                        "name": "pct_Approved"
                                    }
                                ]
                            },
                            "data": [
                                {
                                    "Income_group": "20-30",
                                    "pct_Approved": "20"
                                },
                                {
                                    "Income_group": "40-50",
                                    "pct_Approved": "8"
                                },
                                {
                                    "Income_group": "60-70",
                                    "pct_Approved": "12"
                                },
                                {
                                    "Income_group": "80-90",
                                    "pct_Approved": "12"
                                },
                                {
                                    "Income_group": "100-110",
                                    "pct_Approved": "13"
                                },
                                {
                                    "Income_group": "120-130",
                                    "pct_Approved": "13"
                                },
                                {
                                    "Income_group": "140-150",
                                    "pct_Approved": "12"
                                },
                                {
                                    "Income_group": "160-170",
                                    "pct_Approved": "13"
                                },
                                {
                                    "Income_group": "180-190",
                                    "pct_Approved": "12"
                                },
                                {
                                    "Income_group": "200-210",
                                    "pct_Approved": "13"
                                },
                                {
                                    "Income_group": "220-230",
                                    "pct_Approved": "14"
                                },
                                {
                                    "Income_group": "240-250",
                                    "pct_Approved": "12"
                                },
                                {
                                    "Income_group": "260-270",
                                    "pct_Approved": "14"
                                },
                                {
                                    "Income_group": "280-290",
                                    "pct_Approved": "16"
                                },
                                {
                                    "Income_group": "300-310",
                                    "pct_Approved": "13"
                                },
                                {
                                    "Income_group": "320-330",
                                    "pct_Approved": "11"
                                },
                                {
                                    "Income_group": "340-350",
                                    "pct_Approved": "15"
                                },
                                {
                                    "Income_group": "360-370",
                                    "pct_Approved": "10"
                                },
                                {
                                    "Income_group": "380-390",
                                    "pct_Approved": "5"
                                },
                                {
                                    "Income_group": "400-410",
                                    "pct_Approved": "4"
                                },
                                {
                                    "Income_group": "420-430",
                                    "pct_Approved": "15"
                                },
                                {
                                    "Income_group": "440-450",
                                    "pct_Approved": "14"
                                },
                                {
                                    "Income_group": "460-470",
                                    "pct_Approved": "28"
                                },
                                {
                                    "Income_group": "480-490",
                                    "pct_Approved": "14"
                                },
                                {
                                    "Income_group": "500-510",
                                    "pct_Approved": "0"
                                },
                                {
                                    "Income_group": "520-530",
                                    "pct_Approved": "0"
                                },
                                {
                                    "Income_group": "540-550",
                                    "pct_Approved": "19"
                                },
                                {
                                    "Income_group": "560-570",
                                    "pct_Approved": "0"
                                },
                                {
                                    "Income_group": "580-590",
                                    "pct_Approved": "0"
                                },
                                {
                                    "Income_group": "600-610",
                                    "pct_Approved": "0"
                                },
                                {
                                    "Income_group": "620-630",
                                    "pct_Approved": "25"
                                },
                                {
                                    "Income_group": "640-650",
                                    "pct_Approved": "0"
                                },
                                {
                                    "Income_group": "660-670",
                                    "pct_Approved": "26"
                                },
                                {
                                    "Income_group": "680-690",
                                    "pct_Approved": "0"
                                },
                                {
                                    "Income_group": "700-710",
                                    "pct_Approved": "0"
                                },
                                {
                                    "Income_group": "720-730",
                                    "pct_Approved": "0"
                                },
                                {
                                    "Income_group": "740-750",
                                    "pct_Approved": "0"
                                },
                                {
                                    "Income_group": "760-770",
                                    "pct_Approved": "50"
                                },
                                {
                                    "Income_group": "780-790",
                                    "pct_Approved": "0"
                                },
                                {
                                    "Income_group": "800-810",
                                    "pct_Approved": "50"
                                },
                                {
                                    "Income_group": "900-910",
                                    "pct_Approved": "20"
                                },
                                {
                                    "Income_group": "940-950",
                                    "pct_Approved": "0"
                                },
                                {
                                    "Income_group": "980-990",
                                    "pct_Approved": "0"
                                },
                                {
                                    "Income_group": "1120-1130",
                                    "pct_Approved": "33"
                                },
                                {
                                    "Income_group": "1340-1350",
                                    "pct_Approved": "100"
                                },
                                {
                                    "Income_group": "1560-1570",
                                    "pct_Approved": "100"
                                }
                            ]
                        },
                        "text/html": [
                            "<table>",
                            "<tr><th>Income_group</th><th>pct_Approved</th></tr>",
                            "<tr><td>20-30</td><td>20</td></tr>",
                            "<tr><td>40-50</td><td>8</td></tr>",
                            "<tr><td>60-70</td><td>12</td></tr>",
                            "<tr><td>80-90</td><td>12</td></tr>",
                            "<tr><td>100-110</td><td>13</td></tr>",
                            "<tr><td>120-130</td><td>13</td></tr>",
                            "<tr><td>140-150</td><td>12</td></tr>",
                            "<tr><td>160-170</td><td>13</td></tr>",
                            "<tr><td>180-190</td><td>12</td></tr>",
                            "<tr><td>200-210</td><td>13</td></tr>",
                            "<tr><td>220-230</td><td>14</td></tr>",
                            "<tr><td>240-250</td><td>12</td></tr>",
                            "<tr><td>260-270</td><td>14</td></tr>",
                            "<tr><td>280-290</td><td>16</td></tr>",
                            "<tr><td>300-310</td><td>13</td></tr>",
                            "<tr><td>320-330</td><td>11</td></tr>",
                            "<tr><td>340-350</td><td>15</td></tr>",
                            "<tr><td>360-370</td><td>10</td></tr>",
                            "<tr><td>380-390</td><td>5</td></tr>",
                            "<tr><td>400-410</td><td>4</td></tr>",
                            "<tr><td>420-430</td><td>15</td></tr>",
                            "<tr><td>440-450</td><td>14</td></tr>",
                            "<tr><td>460-470</td><td>28</td></tr>",
                            "<tr><td>480-490</td><td>14</td></tr>",
                            "<tr><td>500-510</td><td>0</td></tr>",
                            "<tr><td>520-530</td><td>0</td></tr>",
                            "<tr><td>540-550</td><td>19</td></tr>",
                            "<tr><td>560-570</td><td>0</td></tr>",
                            "<tr><td>580-590</td><td>0</td></tr>",
                            "<tr><td>600-610</td><td>0</td></tr>",
                            "<tr><td>620-630</td><td>25</td></tr>",
                            "<tr><td>640-650</td><td>0</td></tr>",
                            "<tr><td>660-670</td><td>26</td></tr>",
                            "<tr><td>680-690</td><td>0</td></tr>",
                            "<tr><td>700-710</td><td>0</td></tr>",
                            "<tr><td>720-730</td><td>0</td></tr>",
                            "<tr><td>740-750</td><td>0</td></tr>",
                            "<tr><td>760-770</td><td>50</td></tr>",
                            "<tr><td>780-790</td><td>0</td></tr>",
                            "<tr><td>800-810</td><td>50</td></tr>",
                            "<tr><td>900-910</td><td>20</td></tr>",
                            "<tr><td>940-950</td><td>0</td></tr>",
                            "<tr><td>980-990</td><td>0</td></tr>",
                            "<tr><td>1120-1130</td><td>33</td></tr>",
                            "<tr><td>1340-1350</td><td>100</td></tr>",
                            "<tr><td>1560-1570</td><td>100</td></tr>",
                            "</table>"
                        ]
                    }
                }
            ],
            "execution_count": 118
        },
        {
            "cell_type": "markdown",
            "source": [
                "# _Income appears to be important in likelihood of being approved. 100% of all applicants in the top two income groups were approved._"
            ],
            "metadata": {
                "language": "sql",
                "azdata_cell_guid": "dfeebc62-cbb9-44fe-857e-0ef14503a68a"
            },
            "attachments": {}
        },
        {
            "cell_type": "markdown",
            "source": [
                "# **Let's examine all approved applicants and compare their housing type.**"
            ],
            "metadata": {
                "language": "sql",
                "azdata_cell_guid": "0ea2e0c4-eaf4-4085-8619-b38c09a974b5"
            },
            "attachments": {}
        },
        {
            "cell_type": "markdown",
            "source": [
                "# _Above, the majority of approved applicants (88%) live in their owned house or apartment._"
            ],
            "metadata": {
                "azdata_cell_guid": "80b4c32b-d59b-46fc-a565-db1909bb5abf"
            },
            "attachments": {}
        },
        {
            "cell_type": "markdown",
            "source": [
                "# **Next, let's compare the income type of all approved applicants.**"
            ],
            "metadata": {
                "azdata_cell_guid": "f472ac47-5376-497e-8122-29f202a29d76"
            },
            "attachments": {}
        },
        {
            "cell_type": "markdown",
            "source": [
                ""
            ],
            "metadata": {
                "azdata_cell_guid": "d67ac74b-1489-480b-b5b4-588b082a8f12"
            }
        },
        {
            "cell_type": "code",
            "source": [
                "select \r\n",
                "    Income_type, \r\n",
                "    --count(ID) as totalApplied,\r\n",
                "    --sum(cast([Target] as int)) as totalApproved,\r\n",
                "    ( 100 * sum(cast([Target] as int)) / count(ID) ) as pctApproved\r\n",
                "from dataset \r\n",
                "group by Income_type;"
            ],
            "metadata": {
                "azdata_cell_guid": "9e454eb6-a4ee-4c8c-9ad2-644e7865a3a5",
                "language": "sql",
                "tags": []
            },
            "outputs": [
                {
                    "output_type": "display_data",
                    "data": {
                        "text/html": "(5 rows affected)"
                    },
                    "metadata": {}
                },
                {
                    "output_type": "display_data",
                    "data": {
                        "text/html": "Total execution time: 00:00:00.009"
                    },
                    "metadata": {}
                },
                {
                    "output_type": "execute_result",
                    "metadata": {
                        "azdata_chartOptions": {
                            "type": "doughnut",
                            "dataDirection": "vertical",
                            "columnsAsLabels": true,
                            "labelFirstColumn": false,
                            "legendPosition": "left",
                            "yAxisLabel": "Percent of Applicants Approved",
                            "xAxisLabel": "Income Type"
                        }
                    },
                    "execution_count": 13,
                    "data": {
                        "application/vnd.dataresource+json": {
                            "schema": {
                                "fields": [
                                    {
                                        "name": "Income_type"
                                    },
                                    {
                                        "name": "pctApproved"
                                    }
                                ]
                            },
                            "data": [
                                {
                                    "Income_type": "State servant",
                                    "pctApproved": "12"
                                },
                                {
                                    "Income_type": "Commercial associate",
                                    "pctApproved": "13"
                                },
                                {
                                    "Income_type": "Pensioner",
                                    "pctApproved": "12"
                                },
                                {
                                    "Income_type": "Working",
                                    "pctApproved": "13"
                                },
                                {
                                    "Income_type": "Student",
                                    "pctApproved": "33"
                                }
                            ]
                        },
                        "text/html": [
                            "<table>",
                            "<tr><th>Income_type</th><th>pctApproved</th></tr>",
                            "<tr><td>State servant</td><td>12</td></tr>",
                            "<tr><td>Commercial associate</td><td>13</td></tr>",
                            "<tr><td>Pensioner</td><td>12</td></tr>",
                            "<tr><td>Working</td><td>13</td></tr>",
                            "<tr><td>Student</td><td>33</td></tr>",
                            "</table>"
                        ]
                    }
                }
            ],
            "execution_count": 13
        },
        {
            "cell_type": "markdown",
            "source": [
                "# _Students are much more likely to be approved (33%) than other applicants. However, only 3 students applied._"
            ],
            "metadata": {
                "azdata_cell_guid": "27079d6d-fa34-498c-99c4-54bb4ed8c142"
            },
            "attachments": {}
        }
    ]
}